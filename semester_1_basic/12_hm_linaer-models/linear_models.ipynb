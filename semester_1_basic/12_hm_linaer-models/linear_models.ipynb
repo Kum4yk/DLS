{
 "cells": [
  {
   "cell_type": "code",
   "execution_count": null,
   "metadata": {
    "id": "LjjtruRfRtaW"
   },
   "outputs": [],
   "source": [
    "import numpy as np\n",
    "import pandas as pd\n",
    "import scipy.linalg as sla\n",
    "import matplotlib.pyplot as plt\n",
    "\n",
    "from sklearn import datasets\n",
    "from sklearn.linear_model import LinearRegression, Lasso, Ridge"
   ]
  },
  {
   "cell_type": "code",
   "execution_count": null,
   "metadata": {
    "id": "UHITb0dimYrx"
   },
   "outputs": [],
   "source": [
    "np.random.seed(42)"
   ]
  },
  {
   "cell_type": "markdown",
   "metadata": {
    "id": "ZkqUrIIRkj95"
   },
   "source": [
    "### 1. Градиентный спуск: повторение\n",
    "\n",
    "Рассмотрим функцию от двух переменных:"
   ]
  },
  {
   "cell_type": "code",
   "execution_count": null,
   "metadata": {
    "id": "08eWyQhHksXA"
   },
   "outputs": [],
   "source": [
    "def f(x):\n",
    "  \"\"\"\n",
    "  :param x: np.array(np.float) размерности 2\n",
    "  :return: np.float\n",
    "  \"\"\"\n",
    "  return np.sum(np.sin(x)**2, axis=0)"
   ]
  },
  {
   "cell_type": "markdown",
   "metadata": {
    "id": "is_InL53kvPf"
   },
   "source": [
    "Обратите внимание, что $x$ - numpy-array размерности 2."
   ]
  },
  {
   "cell_type": "markdown",
   "metadata": {
    "id": "GqDNq19tkzjI"
   },
   "source": [
    "***Reminder:***  \n",
    "Что мы хотим? Мы хотим найти минимум этой функции (в машинному обучении мы обычно хотим найти минимум **функции потерь**, например, MSE), а точнее найти $x_1$ и $x_2$ такие, что при них значение $f(x_1,x_2)$ минимально, то есть *точку экстремума*.  \n",
    "  \n",
    "Как мы будем искать эту точку? Используем методы оптимизации (в нашем случае - *минимизации*). Одним из таких методов и является **градиентный спуск**. "
   ]
  },
  {
   "cell_type": "markdown",
   "metadata": {
    "id": "VfpADbGXk5Ot"
   },
   "source": [
    "Реализуем функцию, которая будет осуществлять градиентный спуск для функции $f$:\n",
    "\n",
    "*Примечание:* Вам нужно посчитать частные производные именно **аналитически** и **переписать их в код**, а не считать производные численно (через отношение приращения функции к приращению аргумента) -- в этих двух случаях могут различаться ответы, поэтому будьте внимательны."
   ]
  },
  {
   "cell_type": "code",
   "execution_count": null,
   "metadata": {},
   "outputs": [],
   "source": [
    "import numpy as np\n",
    "\n",
    "def f(x):\n",
    "    \"\"\"\n",
    "    :param x: np.array(np.float) размерности 2\n",
    "    :return: float\n",
    "    \"\"\"\n",
    "    return np.sum(np.sin(x)**2, axis=0)\n",
    "\n",
    "\n",
    "def grad_f(x): \n",
    "  \"\"\"\n",
    "  Градиент функциии f, определенной выше.\n",
    "  :param x: np.array(np.float) размерности 2\n",
    "  :return: np.array(np.float) размерности 2\n",
    "  \"\"\"\n",
    "  return 2 * np.sin(x) * np.cos(x)\n",
    "\n",
    "\n",
    "def grad_descent_2d(func, grad_func, lr, num_iter=100, x0=None):\n",
    "    \"\"\"\n",
    "    функция, которая реализует градиентный спуск в минимум для функции f от двух переменных. \n",
    "        :param func: скалярная функция двух переменных\n",
    "        :param grad_func: градиент функции f (вектор размерности 2)\n",
    "        :param lr: learning rate алгоритма\n",
    "        :param num_iter: количество итераций градиентного спуска\n",
    "        :return: np.array пар вида (x, f(x))\n",
    "    \"\"\"\n",
    "    if x0 is None:\n",
    "        x0 = np.random.random(2)\n",
    "    \n",
    "    # будем сохранять значения аргументов и значений функции \n",
    "    # в процессе град. спуска в переменную history\n",
    "    history = []\n",
    "    \n",
    "    # итерация цикла -- шаг градиентнго спуска\n",
    "    curr_x = x0.copy()\n",
    "    for iter_num in range(num_iter):\n",
    "        entry = np.hstack((curr_x, func(curr_x)))\n",
    "        history.append(entry)\n",
    "        curr_x -= lr * grad_func(curr_x)\n",
    "        \n",
    "    return np.vstack(history)"
   ]
  },
  {
   "cell_type": "code",
   "execution_count": null,
   "metadata": {
    "id": "wb0cOqMfk_Rl"
   },
   "outputs": [],
   "source": [
    "steps = grad_descent_2d(f, grad_f, lr=0.1, num_iter=20)"
   ]
  },
  {
   "cell_type": "markdown",
   "metadata": {
    "id": "65Th1G7XlAn-"
   },
   "source": [
    "Визуализируем точки градиентного спуска на 3D-графике нашей функции. Звездочками будут обозначены точки (тройки $x_1, x_2, f(x_1, x_2)$), по которым Ваш алгоритм градиентного спуска двигался к минимуму.\n",
    "\n",
    "(Для того, чтобы написовать этот график, мы и сохраняли значения $cur\\_x_1, cur\\_x_2, f(cur\\_x_1, cur\\_x_2)$ в `steps` в процессе спуска)\n",
    "\n",
    "Если у Вас правильно написана функция `grad_descent_2d`, то звездочки на картинке должны сходиться к одной из точку минимума функции. Вы можете менять начальные приближения алгоритма, значения `lr` и `num_iter` и получать разные результаты."
   ]
  },
  {
   "cell_type": "code",
   "execution_count": null,
   "metadata": {
    "id": "Lb_dn7QhlF6o"
   },
   "outputs": [],
   "source": [
    "# %matplotlib osx\n",
    "\n",
    "from mpl_toolkits.mplot3d import Axes3D\n",
    "import matplotlib.pyplot as plt\n",
    "from matplotlib import cm\n",
    "import numpy as np\n",
    "\n",
    "path = []\n",
    "\n",
    "X, Y = np.meshgrid(np.linspace(-3, 3, 100), np.linspace(-3, 3, 100))\n",
    "\n",
    "fig = plt.figure(figsize=(16, 10))\n",
    "ax = fig.gca(projection='3d')\n",
    "\n",
    "ax.plot_surface(X, Y, f([X, Y]), cmap=cm.coolwarm, zorder=2)\n",
    "\n",
    "ax.plot(xs=steps[:, 0], ys=steps[:, 1], zs=steps[:, 2],\n",
    "        marker='*', markersize=20, zorder=3, \n",
    "        markerfacecolor='y', lw=3, c='black')\n",
    "\n",
    "ax.set_zlim(0, 5)\n",
    "ax.view_init(elev=60)\n",
    "plt.show()"
   ]
  },
  {
   "cell_type": "markdown",
   "metadata": {
    "id": "qwf4pHzflIYz"
   },
   "source": [
    "Посмотрим на график значений функции от шага"
   ]
  },
  {
   "cell_type": "code",
   "execution_count": null,
   "metadata": {
    "id": "wlO7-4hylVSU"
   },
   "outputs": [],
   "source": [
    "plt.figure(figsize=(14,7))\n",
    "plt.xlabel('grad descent step number')\n",
    "plt.ylabel('$f(x)$')\n",
    "plt.title('Значение функции на каждом шаге гардиентного спуска.')\n",
    "\n",
    "f_values = list(map(lambda x: x[2], steps))\n",
    "plt.plot(f_values, label='gradient descent result')\n",
    "plt.legend()"
   ]
  },
  {
   "cell_type": "markdown",
   "metadata": {
    "id": "vRcVklfKmfny"
   },
   "source": [
    "Когда вы используете градиентный спуск всегда нужно проверять, сошелся ли он. К сожалению для большинства моделей не получится построить 3D график, поэтому обязательно нужно смотреть на то, как менялся лосс на каждом шаге градиентного спуска."
   ]
  },
  {
   "cell_type": "markdown",
   "metadata": {
    "id": "2HiLafE4iUuM"
   },
   "source": [
    "# 2. Генератор батчей\n",
    "\n",
    "Обычно генерация батчей отличается от той, которую мы использовали в семинаре. Мы выбирали *batch_size* случайных строчек на каждом шаге, но у такого подхода есть минусы. Основной заключается в том, что некоторые строчки из обучающего датасета могут попадаться значительно реже, чем другие. \n",
    "\n",
    "Чтобы это исправить обучение делят на эпохи. Мы хотим, чтобы в течение одной эпохи модель обучилась на каждом примере один раз. Для этого нужно перемешать строчки в датасете и каждый раз брать очередные *batch_size* строчек. \n",
    "\n",
    "Может так получится, что размер датасета не делится на *batch_size*, тогда последний батч будет состоять из нескольких последних строк и его размер будет меньше, чем *batch_size*. Такой батч иногда выкидывают и просто не используют. Именно так вам нужно поступить в этом задании."
   ]
  },
  {
   "cell_type": "markdown",
   "metadata": {
    "id": "Lt4OT2aAo87h"
   },
   "source": [
    "Напишите генератор батчей, который будет принимать на вход признаки, ответы и размер батча. Генератор должен возвращать tuple из ($X_{batch}$, $y_{batch}$). Если размер датасета не делится на batch_size, то последний маленький батч возвращать не нужно. \n",
    "\n",
    "Подробнее про Python генераторы можно прочитать здесь:\n",
    "\n",
    "[Документация](https://wiki.python.org/moin/Generators)\n",
    "\n",
    "[Описание на русском](https://pythoner.name/list-generator)\n",
    "\n",
    "Чтобы не перемешивать сам датасет воспользуйтесь np.random.permutation(len(X))\n"
   ]
  },
  {
   "cell_type": "code",
   "execution_count": null,
   "metadata": {
    "id": "8bDnuMLgp-1e"
   },
   "outputs": [],
   "source": [
    "def generate_batches(X, y, batch_size):\n",
    "    assert len(X) == len(y)\n",
    "    np.random.seed(42)\n",
    "    X = np.array(X)\n",
    "    y = np.array(y)\n",
    "    perm = np.random.permutation(len(X))\n",
    "    \n",
    "    for i in range(len(X) // batch_size):\n",
    "        start, end = i * batch_size, (i + 1) * batch_size\n",
    "        indexes = perm[start:end]\n",
    "        yield X[indexes], y[indexes]"
   ]
  },
  {
   "cell_type": "markdown",
   "metadata": {
    "id": "SRNhKh7ruVJF"
   },
   "source": [
    "Проверим, что наш генератор батчей премешивает датасет и каждый эелмент встречается один раз:"
   ]
  },
  {
   "cell_type": "code",
   "execution_count": null,
   "metadata": {
    "id": "RXYD6rpPsbIh"
   },
   "outputs": [],
   "source": [
    "X_fake = np.arange(100)[:, np.newaxis]\n",
    "y_fake = np.arange(100) + 1000\n",
    "\n",
    "X_reconstructed, y_reconstructed = [], []\n",
    "for X_batch, y_batch in generate_batches(X_fake, y_fake, 10):\n",
    "    X_reconstructed.append(X_batch)\n",
    "    y_reconstructed.append(y_batch)\n",
    "\n",
    "X_reconstructed = np.concatenate(X_reconstructed)\n",
    "y_reconstructed = np.concatenate(y_reconstructed)\n",
    "\n",
    "assert (X_fake != X_reconstructed).all()\n",
    "assert (y_fake != y_reconstructed).all()\n",
    "\n",
    "assert (np.sort(X_reconstructed, axis=0) == X_fake).all"
   ]
  },
  {
   "cell_type": "markdown",
   "metadata": {
    "id": "acqZinh32YB6"
   },
   "source": [
    "Попробуем теперь *batch_size* не делящий размер датасета."
   ]
  },
  {
   "cell_type": "code",
   "execution_count": null,
   "metadata": {
    "id": "v9AgUYVF2F6J"
   },
   "outputs": [],
   "source": [
    "X_fake = np.arange(100)[:, np.newaxis]\n",
    "y_fake = np.arange(100) + 1000\n",
    "\n",
    "num_batches = 0\n",
    "for X_batch, y_batch in generate_batches(X_fake, y_fake, 7):\n",
    "    num_batches += 1\n",
    "\n",
    "assert num_batches == len(X_fake) // 7"
   ]
  },
  {
   "cell_type": "markdown",
   "metadata": {
    "id": "njXUst00c0ip"
   },
   "source": [
    "# 3. Логистическая регрессия с $l_1$ и $l_2$ регуляризацией. (elastic net)\n",
    "\n",
    "Ваша задача -- написать класс логистической регрессии с обеими ругеляризациями и потимизацией с помощью SGD, используя генератор батчей, который вы написали выше.\n"
   ]
  },
  {
   "cell_type": "code",
   "execution_count": null,
   "metadata": {
    "id": "RFulfUMedzQo"
   },
   "outputs": [],
   "source": [
    "def logit(x, w):\n",
    "    return np.dot(x, w)\n",
    "\n",
    "def sigmoid(h):\n",
    "    return 1. / (1 + np.exp(-h))\n",
    "\n",
    "class MyElasticLogisticRegression(object):\n",
    "    def __init__(self, l1_coef, l2_coef):\n",
    "        self.l1_coef = l1_coef\n",
    "        self.l2_coef = l2_coef\n",
    "        self.w = None\n",
    "    \n",
    "    def fit(self, X, y, epochs=10, lr=0.1, batch_size=100):\n",
    "        n, k = X.shape        \n",
    "        if self.w is None:\n",
    "            np.random.seed(42)\n",
    "            self.w = np.random.randn(k + 1)\n",
    "\n",
    "        X_train = np.concatenate((np.ones((n, 1)), X), axis=1)\n",
    "        \n",
    "        # Положите в лист losses лосс на каждом батче. Не нужно усреднять лосс по эпохе.\n",
    "        losses = []\n",
    "        for _ in range(epochs):\n",
    "            for X_batch, y_batch in generate_batches(X_train, y, batch_size):\n",
    "                predictions = sigmoid(logit(X_batch, self.w))\n",
    "                grad = self.get_grad(X_batch, y_batch, predictions)\n",
    "                self.w -=  lr * grad\n",
    "                losses.append(self.__loss(y_batch, predictions))\n",
    "                \n",
    "        return losses\n",
    "    \n",
    "    def get_grad(self, X_batch, y_batch, predictions):\n",
    "        \"\"\"\n",
    "        Принимает на вход X_batch с уже добавленной колонкой единиц. \n",
    "        НЕ НУЖНО РЕГУЛЯРИЗИРОВАТЬ BIAS.\n",
    "        \"\"\"\n",
    "        w  = np.copy(self.w)\n",
    "        w[0]=0\n",
    "        grad = (X_batch.T @ (predictions - y_batch))/len(y_batch)\n",
    "        grad += self.l1_coef * np.sign(w)\n",
    "        grad += 2 * self.l2_coef * w\n",
    "        \n",
    "        return grad\n",
    "        \n",
    "    def predict_proba(self, X):\n",
    "        n, k = X.shape\n",
    "        X_ = np.concatenate((np.ones((n, 1)), X), axis=1)\n",
    "        return sigmoid(logit(X_, self.w))\n",
    "\n",
    "    def predict(self, X, threshold=0.5):\n",
    "        return self.predict_proba(X) >= threshold\n",
    "    \n",
    "    def get_weights(self):\n",
    "        return self.w\n",
    "      \n",
    "    def __loss(self, y, p):  \n",
    "        p = np.clip(p, 1e-10, 1 - 1e-10)\n",
    "        return -np.mean(y * np.log(p) + (1 - y) * np.log(1 - p)) + self.l1_coef * np.abs(self.w) + self.l1_coef"
   ]
  },
  {
   "cell_type": "markdown",
   "metadata": {
    "id": "q7U_nJDQehy9"
   },
   "source": [
    "Протестируем на искусственных данных:\n"
   ]
  },
  {
   "cell_type": "code",
   "execution_count": null,
   "metadata": {
    "id": "s3_G7LzsehLx"
   },
   "outputs": [],
   "source": [
    "from sklearn.datasets import make_blobs\n",
    "X, y = make_blobs(n_samples=1000, centers=[[-2,0.5],[3,-0.5]], cluster_std=1, random_state=42)\n",
    "\n",
    "colors = (\"red\", \"green\")\n",
    "colored_y = np.zeros(y.size, dtype=str)\n",
    "\n",
    "for i, cl in enumerate([0,1]):\n",
    "    colored_y[y == cl] = str(colors[i])\n",
    "    \n",
    "plt.figure(figsize=(15,10))\n",
    "plt.scatter(X[:, 0], X[:, 1], c=colored_y)\n",
    "plt.show()"
   ]
  },
  {
   "cell_type": "code",
   "execution_count": null,
   "metadata": {
    "id": "2e83rZRceqn-"
   },
   "outputs": [],
   "source": [
    "clf = MyElasticLogisticRegression(0.1, 0.1)\n",
    "clf.fit(X, y, epochs=1000)\n",
    "w = clf.get_weights()"
   ]
  },
  {
   "cell_type": "code",
   "execution_count": null,
   "metadata": {
    "id": "I9LnB1Xffkql"
   },
   "outputs": [],
   "source": [
    "from matplotlib.colors import ListedColormap\n",
    "\n",
    "plt.figure(figsize=(15,8))\n",
    "\n",
    "eps = 0.1\n",
    "xx, yy = np.meshgrid(np.linspace(np.min(X[:,0]) - eps, np.max(X[:,0]) + eps, 200),\n",
    "                     np.linspace(np.min(X[:,1]) - eps, np.max(X[:,1]) + eps, 200))\n",
    "Z = clf.predict(np.c_[xx.ravel(), yy.ravel()])\n",
    "Z = Z.reshape(xx.shape)\n",
    "cmap_light = ListedColormap(['#FFAAAA', '#AAFFAA'])\n",
    "plt.pcolormesh(xx, yy, Z, cmap=cmap_light)\n",
    "\n",
    "plt.scatter(X[:, 0], X[:, 1], c=colored_y)"
   ]
  },
  {
   "cell_type": "markdown",
   "metadata": {
    "id": "BqzDLd6MgHWI"
   },
   "source": [
    "Теперь протестируем на датасете MNIST. Это очень простой класический датасет, на котором часто тестируются модели. С помощью нейронных сетей люди научились получать на нем качество 99.84%. \n",
    "\n",
    "Датасет состоит из черно-белых картинок с цифрами. ![mnist-3.0.1.png](https://www.researchgate.net/profile/Steven_Young11/publication/306056875/figure/fig1/AS:393921575309346@1470929630835/Example-images-from-the-MNIST-dataset.png)"
   ]
  },
  {
   "cell_type": "markdown",
   "metadata": {
    "id": "xBaJqkC9g8ID"
   },
   "source": [
    "Так как мы сделали классификатор для двух классов, то мы выберем из всех картинок только картинки 0 и 1, првратим их из двумерной матрицы в вектор и обучим нашу модель."
   ]
  },
  {
   "cell_type": "code",
   "execution_count": null,
   "metadata": {
    "id": "2_DfAkIvg6GF"
   },
   "outputs": [],
   "source": [
    "data = pd.read_csv('./train.csv')\n",
    "data.head()"
   ]
  },
  {
   "cell_type": "markdown",
   "metadata": {
    "id": "7zDXXmEmw3dW"
   },
   "source": [
    "Данные выглядят как таблица, первая колонка которой это лейбел -- цифра, которая изображена на картинке, а следующие 784 колонки это значения от 0 до 255, описывающие все пиксели картинки 28х28. То есть нам не придется делать reshape и превращать матрицу в вектор, так как это уже сделано."
   ]
  },
  {
   "cell_type": "code",
   "execution_count": null,
   "metadata": {
    "id": "be-k7gu-w3dW"
   },
   "outputs": [],
   "source": [
    "X = data.iloc[:, 1:]\n",
    "y = data.iloc[:, 1]\n",
    "\n",
    "# Выберем только картинки, где изображен 0 и 1\n",
    "X = X[(y == 0) | (y == 1)]\n",
    "y = y[(y == 0) | (y == 1)]"
   ]
  },
  {
   "cell_type": "markdown",
   "metadata": {
    "id": "FrBJh4stw3dZ"
   },
   "source": [
    "Для оценки модели мы используем кросс валидацию."
   ]
  },
  {
   "cell_type": "code",
   "execution_count": null,
   "metadata": {
    "id": "6vaS7Y3kw3da"
   },
   "outputs": [],
   "source": [
    "from sklearn.model_selection import cross_val_score\n",
    "from sklearn.pipeline import make_pipeline\n",
    "from sklearn.preprocessing import StandardScaler\n",
    "\n",
    "# YOUR CODE\n",
    "# Сделайте sklearn pipeline с StandarScaler и MyElasticLogisticRegression и проверьте точность с помощью cross_val_score.\n",
    "# в качестве scorer используйте 'accuracy'. Эта часть не проверяется в степике.\n",
    "\n",
    "\n",
    "print(f\"Mean accuracy of Logistic Regression for two classes is {mean_accuracy}\")"
   ]
  }
 ],
 "metadata": {
  "colab": {
   "collapsed_sections": [],
   "name": "[homework]linear_models.ipynb",
   "provenance": [],
   "toc_visible": true
  },
  "kernelspec": {
   "display_name": "Python 3",
   "language": "python",
   "name": "python3"
  },
  "language_info": {
   "codemirror_mode": {
    "name": "ipython",
    "version": 3
   },
   "file_extension": ".py",
   "mimetype": "text/x-python",
   "name": "python",
   "nbconvert_exporter": "python",
   "pygments_lexer": "ipython3",
   "version": "3.8.5"
  }
 },
 "nbformat": 4,
 "nbformat_minor": 1
}
