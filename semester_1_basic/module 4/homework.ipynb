{
 "cells": [
  {
   "cell_type": "markdown",
   "metadata": {},
   "source": [
    "### Почти двойной факториал\n",
    "\n",
    "Реализуйте функцию almost_double_factorial(n), вычисляющую произведение всех нечётных натуральных чисел, не превосходящих nn.\n",
    "\n",
    "В качестве аргумента ей передаётся натуральное (ноль -- натуральное) число $n \\leqslant 100$\n",
    "\n",
    "\n",
    "Возвращаемое значение - вычисленное произведение."
   ]
  },
  {
   "cell_type": "code",
   "execution_count": 7,
   "metadata": {},
   "outputs": [],
   "source": [
    "def almost_double_factorial(n):\n",
    "    res = 1\n",
    "    for i in range(1, n + 1, 2):\n",
    "        res = res * i\n",
    "    return res"
   ]
  },
  {
   "cell_type": "code",
   "execution_count": 5,
   "metadata": {},
   "outputs": [
    {
     "data": {
      "text/plain": [
       "3"
      ]
     },
     "execution_count": 5,
     "metadata": {},
     "output_type": "execute_result"
    }
   ],
   "source": [
    "almost_double_factorial(3)"
   ]
  },
  {
   "cell_type": "code",
   "execution_count": 20,
   "metadata": {},
   "outputs": [],
   "source": [
    "from functools import reduce\n",
    "\n",
    "def almost_double_factorial_reduce(n):\n",
    "    return reduce(lambda x, y: x * y, list(range(1, n + 1, 2)), 1)"
   ]
  },
  {
   "cell_type": "code",
   "execution_count": 27,
   "metadata": {},
   "outputs": [
    {
     "data": {
      "text/plain": [
       "1"
      ]
     },
     "execution_count": 27,
     "metadata": {},
     "output_type": "execute_result"
    }
   ],
   "source": [
    "almost_double_factorial_reduce(0)"
   ]
  },
  {
   "cell_type": "markdown",
   "metadata": {},
   "source": [
    "### Хитрая сортировка\n",
    " \n",
    "\n",
    "Пусть у нас есть следующий список, в котором элементы -- tuple из строк:\n",
    "\n",
    "<code>items = [('one', 'two'), ('three', 'four'), ('five', 'six'), ('string', 'a')] </code>\n",
    "\n",
    "Мы хотим отсортировать этот список по последней букве второго элемента каждого tuple, т.е. получить такой список:\n",
    "\n",
    "<code> sorted_items = [ ('string', 'a'), ('one', 'two'), ('three', 'four'), ('five', 'six'),] </code>"
   ]
  },
  {
   "cell_type": "code",
   "execution_count": 29,
   "metadata": {},
   "outputs": [
    {
     "data": {
      "text/plain": [
       "True"
      ]
     },
     "execution_count": 29,
     "metadata": {},
     "output_type": "execute_result"
    }
   ],
   "source": [
    "items = [('one', 'two'), ('three', 'four'), ('five', 'six'), ('string', 'a')]\n",
    "answer = [('string', 'a'), ('one', 'two'), ('three', 'four'), ('five', 'six')]\n",
    "\n",
    "sorted_items = sorted(items, key=lambda x: x[1][-1])\n",
    "\n",
    "answer == sorted_items"
   ]
  },
  {
   "cell_type": "markdown",
   "metadata": {},
   "source": [
    "### Слайсы\n",
    " \n",
    "\n",
    "Дан list x:\n",
    "\n",
    "<code>x = [1, 2, 3, 4, 5]</code>\n",
    "\n",
    "Заполните слайс вместо, чтобы результатом стал следующий list:\n",
    "\n",
    "<code>[-5, 2, -3, 4, -1]</code>"
   ]
  },
  {
   "cell_type": "code",
   "execution_count": 30,
   "metadata": {},
   "outputs": [
    {
     "data": {
      "text/plain": [
       "True"
      ]
     },
     "execution_count": 30,
     "metadata": {},
     "output_type": "execute_result"
    }
   ],
   "source": [
    "x = [1, 2, 3, 4, 5]\n",
    "x[::-2] = [-1, -3, -5]\n",
    "\n",
    "x == [-5, 2, -3, 4, -1]"
   ]
  },
  {
   "cell_type": "markdown",
   "metadata": {},
   "source": [
    "### Создание массивов\n",
    "\n",
    "Дан массив $A[0,\\ldots,N-1]$. Реализуйте функцию cumsum_and_erase(...), принимающую один обязательный аргумент AA и один опциональный аргумент eraseerase, по умолчанию равный 1.\n",
    "\n",
    "Функция должна выполнять следующие действия: \n",
    "\n",
    "- сформировать массив $B[0,\\ldots, N-1]$, где $B_i = A_0 + \\ldots + A_{i}$ - массив частичных сумм массива $A$;\n",
    "- удалить из массива B все элементы, равные параметру $erase$; получить массив C;\n",
    "- вернуть C в качестве ответа\n",
    "\n",
    "Постарайтесь сделать это за время $O(N)$"
   ]
  },
  {
   "cell_type": "code",
   "execution_count": 41,
   "metadata": {},
   "outputs": [],
   "source": [
    "def cumsum_and_erase(A, erase=1):\n",
    "    B = list()\n",
    "    elem = 0\n",
    "    for i in range(len(A)):\n",
    "        elem += A[i]\n",
    "        if elem != erase:\n",
    "            B.append(elem)\n",
    "    return B"
   ]
  },
  {
   "cell_type": "code",
   "execution_count": 35,
   "metadata": {},
   "outputs": [],
   "source": [
    "A = [5, 1, 4, 5, 14] \n",
    "B = cumsum_and_erase(A, erase=10) \n",
    "assert B == [5, 6, 15, 29]"
   ]
  },
  {
   "cell_type": "code",
   "execution_count": 43,
   "metadata": {},
   "outputs": [
    {
     "name": "stdout",
     "output_type": "stream",
     "text": [
      "1.36 µs ± 20 ns per loop (mean ± std. dev. of 7 runs, 100000 loops each)\n"
     ]
    }
   ],
   "source": [
    "%%timeit -n 100000\n",
    "cumsum_and_erase(A, erase=10) "
   ]
  },
  {
   "cell_type": "code",
   "execution_count": 36,
   "metadata": {},
   "outputs": [],
   "source": [
    "def cumsum_and_erase_compr(A, erase=1):\n",
    "    B = [sum(A[:i+1]) for i in range(len(A)) if sum(A[:i+1]) != erase]\n",
    "    return B"
   ]
  },
  {
   "cell_type": "code",
   "execution_count": 44,
   "metadata": {},
   "outputs": [
    {
     "name": "stdout",
     "output_type": "stream",
     "text": [
      "3.64 µs ± 56.6 ns per loop (mean ± std. dev. of 7 runs, 100000 loops each)\n"
     ]
    }
   ],
   "source": [
    "%%timeit -n 100000\n",
    "cumsum_and_erase_compr(A, erase=10) "
   ]
  },
  {
   "cell_type": "markdown",
   "metadata": {},
   "source": [
    "### Собственный класс \"Нейрон\"\n",
    "\n",
    "Реализуйте класс \"Нейрон\", у которого будет несколько методов: \n",
    "\n",
    "-  \\_\\_init__. Принимает на вход массив весов нейрона - $w = (w_1, \\ldots, w_n)$, а также функцию активации f (аргумент по умолчанию f(x) = xf(x)=x). Сохраняет веса и функцию внутри класса.\n",
    "\n",
    "\n",
    "\n",
    "- forward. Принимает на вход массив $x = (x_1, \\ldots, x_n)$ - входы нейрона. Возвращает $f(w_1x_1 + \\ldots + w_nx_n)$  \n",
    "    \n",
    "    \n",
    "- backlog. Возвращает массив xx, который подавался на вход функции forward при её последнем вызове. Если ранее функция forward не вызывалось, возвращает None."
   ]
  },
  {
   "cell_type": "code",
   "execution_count": 45,
   "metadata": {},
   "outputs": [],
   "source": [
    "class Neuron:\n",
    "    def __init__(self, w, f=lambda x: x):\n",
    "        self.w = w\n",
    "        self.f = f\n",
    "        self.x = None\n",
    "\n",
    "    def forward(self, x):\n",
    "        self.x = x\n",
    "        return self.f(sum(map(lambda x, y: x * y, self.x, self.w)))\n",
    "\n",
    "    def backlog(self):\n",
    "        return self.x"
   ]
  }
 ],
 "metadata": {
  "kernelspec": {
   "display_name": "Python 3",
   "language": "python",
   "name": "python3"
  },
  "language_info": {
   "codemirror_mode": {
    "name": "ipython",
    "version": 3
   },
   "file_extension": ".py",
   "mimetype": "text/x-python",
   "name": "python",
   "nbconvert_exporter": "python",
   "pygments_lexer": "ipython3",
   "version": "3.7.3"
  }
 },
 "nbformat": 4,
 "nbformat_minor": 2
}
