{
 "cells": [
  {
   "cell_type": "code",
   "execution_count": 48,
   "metadata": {},
   "outputs": [],
   "source": [
    "from scipy.optimize import minimize\n",
    "import numpy as np\n",
    "from sympy import diff, symbols, exp, log, log, tan, ln, cos\n",
    "import matplotlib.pyplot as plt"
   ]
  },
  {
   "cell_type": "markdown",
   "metadata": {},
   "source": [
    "### 2\n",
    "Посчитайте производную $f(x)=x^x$ в точке $x_0 = e$. Ответ округлите до одного знака после запятой. \n",
    "\n",
    "Hint. Представьте функцию $f(x)$ как $e^{g(x)}$ для некоторой g."
   ]
  },
  {
   "cell_type": "markdown",
   "metadata": {},
   "source": [
    "$$ (ln x + 1 ) \\cdot x^x $$"
   ]
  },
  {
   "cell_type": "code",
   "execution_count": 6,
   "metadata": {},
   "outputs": [
    {
     "data": {
      "text/plain": [
       "30.3"
      ]
     },
     "execution_count": 6,
     "metadata": {},
     "output_type": "execute_result"
    }
   ],
   "source": [
    "round(2 * np.e**np.e, 1)"
   ]
  },
  {
   "cell_type": "code",
   "execution_count": 11,
   "metadata": {},
   "outputs": [
    {
     "data": {
      "text/latex": [
       "$\\displaystyle x^{x} \\left(\\log{\\left(x \\right)} + 1\\right)$"
      ],
      "text/plain": [
       "x**x*(log(x) + 1)"
      ]
     },
     "execution_count": 11,
     "metadata": {},
     "output_type": "execute_result"
    }
   ],
   "source": [
    "x = symbols('x')\n",
    "diff(x**x)"
   ]
  },
  {
   "cell_type": "markdown",
   "metadata": {},
   "source": [
    "### 3\n",
    "Посчитайте производную  $f(x) = tg(x) \\cdot \\ln(\\cos(x^2) + 1), в\\ точке\\ 0$. Ответ округлите до двух знаков после запятой."
   ]
  },
  {
   "cell_type": "code",
   "execution_count": 12,
   "metadata": {},
   "outputs": [],
   "source": []
  },
  {
   "cell_type": "code",
   "execution_count": 16,
   "metadata": {},
   "outputs": [
    {
     "data": {
      "text/latex": [
       "$\\displaystyle - \\frac{2 x \\sin{\\left(x^{2} \\right)} \\tan{\\left(x \\right)}}{\\cos{\\left(x^{2} \\right)} + 1} + \\left(\\tan^{2}{\\left(x \\right)} + 1\\right) \\log{\\left(\\cos{\\left(x^{2} \\right)} + 1 \\right)}$"
      ],
      "text/plain": [
       "-2*x*sin(x**2)*tan(x)/(cos(x**2) + 1) + (tan(x)**2 + 1)*log(cos(x**2) + 1)"
      ]
     },
     "execution_count": 16,
     "metadata": {},
     "output_type": "execute_result"
    }
   ],
   "source": [
    "x = symbols('x')\n",
    "eq = diff(tan(x) * log(cos(x*x) + 1))\n",
    "eq"
   ]
  },
  {
   "cell_type": "code",
   "execution_count": 24,
   "metadata": {},
   "outputs": [
    {
     "data": {
      "text/plain": [
       "0.69"
      ]
     },
     "execution_count": 24,
     "metadata": {},
     "output_type": "execute_result"
    }
   ],
   "source": [
    "round(np.log(2), 2)"
   ]
  },
  {
   "cell_type": "markdown",
   "metadata": {},
   "source": [
    "### 4\n",
    "Ваше задание - написать python-функцию, которая в качестве аргумента принимает:\n",
    "\n",
    "- числовую функцию $f$, у которой необходимо вычислить производную\n",
    "- число $\\varepsilon$ - его необходимо использовать в качестве \"малого отклонения\" для приближённого вычисления производной.\n",
    "\n",
    "\n",
    "Функция должна в свою очередь возвращать числовую функцию $f'$, равную производной функции $f$.\n",
    "\n",
    "\n",
    "Однако не подумайте, что вас просят написать что-то, что будет вычислять эту самую производную аналитически. Производную следует вычислять по формуле\n",
    "$$ f'(x) \\approx \\frac{f(x + \\varepsilon) - f(x)}{\\varepsilon}$$\n"
   ]
  },
  {
   "cell_type": "code",
   "execution_count": 25,
   "metadata": {},
   "outputs": [],
   "source": [
    "def numerical_derivative_1d(func, epsilon):\n",
    "    \"\"\"\n",
    "    Функция для приближённого вычисления производной функции одной переменной. \n",
    "    :param func: float -> float — произвольная дифференцируемая функция\n",
    "    :param epsilon: float — максимальная величина приращения по оси Ох\n",
    "    :return: другая функция, которая приближённо вычисляет производную в точке\n",
    "    \"\"\"\n",
    "    def deriv_func(x):\n",
    "        \"\"\"\n",
    "        :param x: float — точка, в которой нужно вычислить производную\n",
    "        :return: приближённое значение производной в этой точке\n",
    "        \"\"\"\n",
    "        return (func(x + epsilon) - func(x)) / epsilon\n",
    "    return deriv_func"
   ]
  },
  {
   "cell_type": "markdown",
   "metadata": {},
   "source": [
    "### 5\n",
    "В этом задании Вы должны найти минимум функций с помощью градиентного спуска.\n",
    "\n",
    "Вам на вход подаются:\n",
    "- функция func\n",
    "- ее производная deriv (*)\n",
    "- а также начальная точка start, \n",
    "\n",
    "на выходе - точка локального минимума.\n",
    "\n",
    "\n",
    "Для вашего удобства мы написали функцию для отрисовки траектории градиентного спуска\n",
    "\n",
    "\n",
    "В первой реализации градиентного спуска можете предполагать, что на вход подаются функции с единственным, глобальным минимумом. "
   ]
  },
  {
   "cell_type": "code",
   "execution_count": 81,
   "metadata": {},
   "outputs": [],
   "source": [
    "def grad_descent_v1(func, deriv, start=None, callback=None, n_iter=20000, lr=0.01, eps=1e-6, debug=None):\n",
    "    if start is None:\n",
    "        np.random.seed(179)\n",
    "        start = np.random.randn()\n",
    "\n",
    "    estimate = start\n",
    "    curr_state = func(estimate)\n",
    "    \n",
    "    if callback:\n",
    "        callback(estimate, curr_state)\n",
    "    \n",
    "    i = 0\n",
    "    while True:\n",
    "        estimate -= deriv(estimate) * lr\n",
    "        \n",
    "        old_state = curr_state\n",
    "        curr_state = func(estimate)\n",
    "        i += 1\n",
    "        if callback:\n",
    "            callback(estimate, curr_state)\n",
    "        if i == n_iter or abs(curr_state - old_state) < eps:\n",
    "            break\n",
    "    if debug:\n",
    "        print(i, curr_state, old_state, estimate)\n",
    "    return estimate"
   ]
  },
  {
   "cell_type": "code",
   "execution_count": 8,
   "metadata": {},
   "outputs": [
    {
     "name": "stdout",
     "output_type": "stream",
     "text": [
      "344 2.3614562736554184e-05 2.458825774318536e-05 4.995140518264614\n"
     ]
    },
    {
     "data": {
      "text/plain": [
       "5.000000021710189"
      ]
     },
     "execution_count": 8,
     "metadata": {},
     "output_type": "execute_result"
    }
   ],
   "source": [
    "func = lambda x: (x - 5)**2\n",
    "deriv = lambda x: 2*(x - 5)\n",
    "grad_descent_v1(func, deriv)\n",
    "minimize(func, np.random.randn())['x'][0]"
   ]
  },
  {
   "cell_type": "code",
   "execution_count": 9,
   "metadata": {},
   "outputs": [
    {
     "name": "stdout",
     "output_type": "stream",
     "text": [
      "5 1.1556240719846407 1.1556240935754019 0.29498047011994505\n"
     ]
    },
    {
     "data": {
      "text/plain": [
       "0.2949799132231019"
      ]
     },
     "execution_count": 9,
     "metadata": {},
     "output_type": "execute_result"
    }
   ],
   "source": [
    "func = lambda x: (x - 1)**8 + x**4 + x**2 + 1\n",
    "deriv = lambda x: 8*(x - 1)**7 + 4*x**3 + 2*x\n",
    "grad_descent_v1(func, deriv, lr=0.1)\n",
    "minimize(func, np.random.randn())['x'][0]"
   ]
  },
  {
   "cell_type": "markdown",
   "metadata": {},
   "source": [
    "____"
   ]
  },
  {
   "cell_type": "code",
   "execution_count": 82,
   "metadata": {},
   "outputs": [],
   "source": [
    "def grad_descent_v2(func, deriv, low=None, high=None, callback=None, n_sec=10, debug=None):\n",
    "    history = [0] * n_sec\n",
    "    if low and high:\n",
    "        space = np.linspace(low, high, n_sec+1)\n",
    "        for i in range(n_sec):\n",
    "            point = np.random.uniform(low=space[i], high=space[i+1])\n",
    "            some_x = grad_descent_v1(func, deriv, start=point, debug=debug)\n",
    "            best = best if func(best) < func(some_x) else some_x\n",
    "    return best"
   ]
  },
  {
   "cell_type": "code",
   "execution_count": 79,
   "metadata": {},
   "outputs": [
    {
     "data": {
      "text/plain": [
       "<matplotlib.collections.PathCollection at 0x1c6fa0c5e80>"
      ]
     },
     "execution_count": 79,
     "metadata": {},
     "output_type": "execute_result"
    },
    {
     "data": {
      "image/png": "[encoded data removed]",
      "text/plain": [
       "<Figure size 432x288 with 1 Axes>"
      ]
     },
     "metadata": {
      "needs_background": "light"
     },
     "output_type": "display_data"
    }
   ],
   "source": [
    "func = lambda x: np.sin(x) + x * 0.1\n",
    "deriv = lambda x: np.cos(x) + 0.1\n",
    "x = np.linspace(-10, 10, 100)\n",
    "plt.plot(x, func(x));\n",
    "point = -7.964086677348082\n",
    "plt.scatter([point], [func(point)])"
   ]
  },
  {
   "cell_type": "code",
   "execution_count": 88,
   "metadata": {},
   "outputs": [],
   "source": [
    "from scipy.optimize import minimize\n",
    "\n",
    "def grad_descent_v1(func, deriv, start=None, callback=None, n_iter=20000, lr=0.001, eps=1e-6, debug=None):\n",
    "    if start is None:\n",
    "        np.random.seed(179)\n",
    "        start = np.random.randn()\n",
    "\n",
    "    estimate = start\n",
    "    curr_state = func(estimate)\n",
    "    \n",
    "    if callback:\n",
    "        callback(estimate, curr_state)\n",
    "    \n",
    "    i = 0\n",
    "    while True:\n",
    "        estimate -= deriv(estimate) * lr\n",
    "        old_state = curr_state\n",
    "        curr_state = func(estimate)\n",
    "        i += 1\n",
    "        \n",
    "        if callback:\n",
    "            callback(estimate, curr_state)\n",
    "        if i == n_iter or abs(curr_state - old_state) < eps:\n",
    "            break\n",
    "    if debug:\n",
    "        print(i, curr_state, old_state, estimate)\n",
    "    return estimate\n",
    "\n",
    "\n",
    "def grad_descent_v2(func, deriv, low=None, high=None, callback=None, n_sec=2000, debug=None):\n",
    "    best = np.random.randn() or low\n",
    "    if low and high:\n",
    "        space = np.linspace(low+0.5, high-0.5, n_sec+1)\n",
    "        for i in range(n_sec):\n",
    "            point = np.random.uniform(low=space[i], high=space[i+1])\n",
    "            some_x = minimize(func, point)['x'][0]\n",
    "            best = best if func(best) < func(some_x) else some_x\n",
    "        if debug:\n",
    "            print(history)\n",
    "            print(history[0][1])\n",
    "        return best\n",
    "    return grad_descent_v1(func, deriv)\n",
    "        \n",
    "    \n",
    "    \n"
   ]
  },
  {
   "cell_type": "code",
   "execution_count": 87,
   "metadata": {},
   "outputs": [
    {
     "data": {
      "text/plain": [
       "0.9945020218195472"
      ]
     },
     "execution_count": 87,
     "metadata": {},
     "output_type": "execute_result"
    }
   ],
   "source": [
    "func = lambda x: x**20 + x**2 - 20 * x + 10\n",
    "deriv = lambda x: 20*x**19 + 2*x - 20\n",
    "grad_descent_v2(func, deriv, low=-10, high=10)"
   ]
  },
  {
   "cell_type": "code",
   "execution_count": 84,
   "metadata": {},
   "outputs": [
    {
     "name": "stdout",
     "output_type": "stream",
     "text": [
      "-7.94423314956895\n"
     ]
    },
    {
     "data": {
      "text/plain": [
       "-7.954154305398493"
      ]
     },
     "execution_count": 84,
     "metadata": {},
     "output_type": "execute_result"
    }
   ],
   "source": [
    "print(grad_descent_v2(func, deriv, low=-10, high=10))\n",
    "minimize(func, -8.456204508055315)['x'][0]"
   ]
  },
  {
   "cell_type": "markdown",
   "metadata": {},
   "source": [
    "___\n",
    "\n",
    "Вычислите градиент следующей функции\n",
    "\n",
    "$$ \\psi(x,y,z) = \\ln(\\cos(e^{x+y})) - \\ln(xy) $$\n",
    "\n",
    "Запишите ответ в виде строки $ (\\psi_{x}^{'})*i + (\\psi_{y}^{'})*j $"
   ]
  },
  {
   "cell_type": "code",
   "execution_count": 15,
   "metadata": {},
   "outputs": [
    {
     "data": {
      "text/latex": [
       "$\\displaystyle - \\frac{e^{x + y} \\sin{\\left(e^{x + y} \\right)}}{\\cos{\\left(e^{x + y} \\right)}} - \\frac{1}{x}$"
      ],
      "text/plain": [
       "-exp(x + y)*sin(exp(x + y))/cos(exp(x + y)) - 1/x"
      ]
     },
     "execution_count": 15,
     "metadata": {},
     "output_type": "execute_result"
    }
   ],
   "source": [
    "x = symbols('x')\n",
    "y = symbols('y')\n",
    "diff(log(cos(exp(x+y))) - log(x*y), x)"
   ]
  },
  {
   "cell_type": "code",
   "execution_count": 16,
   "metadata": {
    "scrolled": true
   },
   "outputs": [
    {
     "data": {
      "text/latex": [
       "$\\displaystyle - \\frac{e^{x + y} \\sin{\\left(e^{x + y} \\right)}}{\\cos{\\left(e^{x + y} \\right)}} - \\frac{1}{y}$"
      ],
      "text/plain": [
       "-exp(x + y)*sin(exp(x + y))/cos(exp(x + y)) - 1/y"
      ]
     },
     "execution_count": 16,
     "metadata": {},
     "output_type": "execute_result"
    }
   ],
   "source": [
    "diff(log(cos(exp(x+y))) - log(x*y), y)"
   ]
  },
  {
   "cell_type": "markdown",
   "metadata": {},
   "source": []
  }
 ],
 "metadata": {
  "kernelspec": {
   "display_name": "Python 3",
   "language": "python",
   "name": "python3"
  },
  "language_info": {
   "codemirror_mode": {
    "name": "ipython",
    "version": 3
   },
   "file_extension": ".py",
   "mimetype": "text/x-python",
   "name": "python",
   "nbconvert_exporter": "python",
   "pygments_lexer": "ipython3",
   "version": "3.8.5"
  }
 },
 "nbformat": 4,
 "nbformat_minor": 4
}
