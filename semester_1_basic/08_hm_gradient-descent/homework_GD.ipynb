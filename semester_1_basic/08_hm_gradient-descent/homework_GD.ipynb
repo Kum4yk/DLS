{
 "cells": [
  {
   "cell_type": "markdown",
   "metadata": {},
   "source": [
    "### 2\n",
    "Посчитайте производную $f(x)=x^x$ в точке $x_0 = e$. Ответ округлите до одного знака после запятой. \n",
    "\n",
    "Hint. Представьте функцию $f(x)$ как $e^{g(x)}$ для некоторой g."
   ]
  },
  {
   "cell_type": "markdown",
   "metadata": {},
   "source": [
    "$$ (ln x + 1 ) \\cdot x^x $$"
   ]
  },
  {
   "cell_type": "code",
   "execution_count": 10,
   "metadata": {},
   "outputs": [],
   "source": [
    "import numpy as np\n",
    "from sympy import diff, symbols, exp, log"
   ]
  },
  {
   "cell_type": "code",
   "execution_count": 6,
   "metadata": {},
   "outputs": [
    {
     "data": {
      "text/plain": [
       "30.3"
      ]
     },
     "execution_count": 6,
     "metadata": {},
     "output_type": "execute_result"
    }
   ],
   "source": [
    "round(2 * np.e**np.e, 1)"
   ]
  },
  {
   "cell_type": "code",
   "execution_count": 11,
   "metadata": {},
   "outputs": [
    {
     "data": {
      "text/latex": [
       "$\\displaystyle x^{x} \\left(\\log{\\left(x \\right)} + 1\\right)$"
      ],
      "text/plain": [
       "x**x*(log(x) + 1)"
      ]
     },
     "execution_count": 11,
     "metadata": {},
     "output_type": "execute_result"
    }
   ],
   "source": [
    "x = symbols('x')\n",
    "diff(x**x)"
   ]
  },
  {
   "cell_type": "markdown",
   "metadata": {},
   "source": [
    "### 3\n",
    "Посчитайте производную  $f(x) = tg(x) \\cdot \\ln(\\cos(x^2) + 1), в\\ точке\\ 0$. Ответ округлите до двух знаков после запятой."
   ]
  },
  {
   "cell_type": "code",
   "execution_count": 12,
   "metadata": {},
   "outputs": [],
   "source": [
    "from sympy import log, tan, ln, cos"
   ]
  },
  {
   "cell_type": "code",
   "execution_count": 16,
   "metadata": {},
   "outputs": [
    {
     "data": {
      "text/latex": [
       "$\\displaystyle - \\frac{2 x \\sin{\\left(x^{2} \\right)} \\tan{\\left(x \\right)}}{\\cos{\\left(x^{2} \\right)} + 1} + \\left(\\tan^{2}{\\left(x \\right)} + 1\\right) \\log{\\left(\\cos{\\left(x^{2} \\right)} + 1 \\right)}$"
      ],
      "text/plain": [
       "-2*x*sin(x**2)*tan(x)/(cos(x**2) + 1) + (tan(x)**2 + 1)*log(cos(x**2) + 1)"
      ]
     },
     "execution_count": 16,
     "metadata": {},
     "output_type": "execute_result"
    }
   ],
   "source": [
    "x = symbols('x')\n",
    "eq = diff(tan(x) * log(cos(x*x) + 1))\n",
    "eq"
   ]
  },
  {
   "cell_type": "code",
   "execution_count": 24,
   "metadata": {},
   "outputs": [
    {
     "data": {
      "text/plain": [
       "0.69"
      ]
     },
     "execution_count": 24,
     "metadata": {},
     "output_type": "execute_result"
    }
   ],
   "source": [
    "round(np.log(2), 2)"
   ]
  },
  {
   "cell_type": "markdown",
   "metadata": {},
   "source": [
    "### 4\n",
    "Ваше задание - написать python-функцию, которая в качестве аргумента принимает:\n",
    "\n",
    "- числовую функцию $f$, у которой необходимо вычислить производную\n",
    "- число $\\varepsilon$ - его необходимо использовать в качестве \"малого отклонения\" для приближённого вычисления производной.\n",
    "\n",
    "\n",
    "Функция должна в свою очередь возвращать числовую функцию $f'$, равную производной функции $f$.\n",
    "\n",
    "\n",
    "Однако не подумайте, что вас просят написать что-то, что будет вычислять эту самую производную аналитически. Производную следует вычислять по формуле\n",
    "$$ f'(x) \\approx \\frac{f(x + \\varepsilon) - f(x)}{\\varepsilon}$$\n"
   ]
  },
  {
   "cell_type": "code",
   "execution_count": 25,
   "metadata": {},
   "outputs": [],
   "source": [
    "def numerical_derivative_1d(func, epsilon):\n",
    "    \"\"\"\n",
    "    Функция для приближённого вычисления производной функции одной переменной. \n",
    "    :param func: float -> float — произвольная дифференцируемая функция\n",
    "    :param epsilon: float — максимальная величина приращения по оси Ох\n",
    "    :return: другая функция, которая приближённо вычисляет производную в точке\n",
    "    \"\"\"\n",
    "    def deriv_func(x):\n",
    "        \"\"\"\n",
    "        :param x: float — точка, в которой нужно вычислить производную\n",
    "        :return: приближённое значение производной в этой точке\n",
    "        \"\"\"\n",
    "        return (func(x + epsilon) - func(x)) / epsilon\n",
    "    return deriv_func"
   ]
  },
  {
   "cell_type": "markdown",
   "metadata": {},
   "source": [
    "### 5\n",
    "В этом задании Вы должны найти минимум функций с помощью градиентного спуска.\n",
    "\n",
    "Вам на вход подаются:\n",
    "- функция func\n",
    "- ее производная deriv (*)\n",
    "- а также начальная точка start, \n",
    "\n",
    "на выходе - точка локального минимума.\n",
    "\n",
    "\n",
    "Для вашего удобства мы написали функцию для отрисовки траектории градиентного спуска\n",
    "\n",
    "\n",
    "В первой реализации градиентного спуска можете предполагать, что на вход подаются функции с единственным, глобальным минимумом. \n",
    "\n",
    "\n",
    "**Hint.**\n",
    "- Как понять, что пора остановиться? Это может зависеть от градиента или расстояния между двумя соседними шагами алгоритма, так и  от числа уже выполненных итераций.\n",
    "\n",
    "- Как правильно менять величину шага (learning rate) от итерации к итерации?\n"
   ]
  },
  {
   "cell_type": "code",
   "execution_count": null,
   "metadata": {},
   "outputs": [],
   "source": [
    "def grad_descent_v1(func, deriv, start=None, callback=None):\n",
    "    \"\"\" \n",
    "    Реализация градиентного спуска для функций с одним локальным минимумом,\n",
    "    совпадающим с глобальным. Все тесты будут иметь такую природу.\n",
    "    :param func: float -> float — функция \n",
    "    :param deriv: float -> float — её производная\n",
    "    :param start: float — начальная точка\n",
    "    \"\"\"\n",
    "    if start is None:\n",
    "        # Если точка не дана, сгенерируем случайную\n",
    "        # из стандартного нормального распределения.\n",
    "        # При таком подходе начальная точка может быть\n",
    "        # любой, а не только из какого-то ограниченного диапазона\n",
    "        np.random.seed(179)\n",
    "        start = np.random.randn()\n",
    "\n",
    "    estimate = start\n",
    "    callback(estimate, func(estimate))  # не забывайте логировать шаги!\n",
    "\n",
    "    # YOUR CODE\n",
    "\n",
    "    return estimate"
   ]
  }
 ],
 "metadata": {
  "kernelspec": {
   "display_name": "Python 3",
   "language": "python",
   "name": "python3"
  },
  "language_info": {
   "codemirror_mode": {
    "name": "ipython",
    "version": 3
   },
   "file_extension": ".py",
   "mimetype": "text/x-python",
   "name": "python",
   "nbconvert_exporter": "python",
   "pygments_lexer": "ipython3",
   "version": "3.8.5"
  }
 },
 "nbformat": 4,
 "nbformat_minor": 4
}
